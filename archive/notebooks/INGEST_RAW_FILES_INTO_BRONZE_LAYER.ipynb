{
 "metadata": {
  "kernelspec": {
   "display_name": "Streamlit Notebook",
   "name": "streamlit"
  },
  "lastEditStatus": {
   "notebookId": "d5izz6nve3yeeqlvggmc",
   "authorId": "9145327147112",
   "authorName": "SNOWVISEOADMIN",
   "authorEmail": "matthieu.noiret@viseo.com",
   "sessionId": "96ed8560-b319-47bc-9903-8f8649abcef8",
   "lastEditTime": 1745826109631
  }
 },
 "nbformat_minor": 5,
 "nbformat": 4,
 "cells": [
  {
   "cell_type": "code",
   "id": "3775908f-ca36-4846-8f38-5adca39217f2",
   "metadata": {
    "language": "python",
    "name": "get_inputs"
   },
   "source": "# Import python packages\nimport sys;\nimport json;\n\n# Get JSON input parameters\ny = json.loads(sys.argv[0])\n\n# the result is a Python dictionary:\nsrc_schema = \"raw_layer\"\nexternal_stage_root_path = \"@RAW_LAYER.EXTERNAL_AZUR_STAGE/Files\"\nbronze_table = \"bronze_layer.\"  +y[\"bronze_table\"]\nstage_name = \"@raw_layer.landing_internal_stage\"\nstage_path_suffix = \"/\" +y[\"bronze_table\"].replace('_BRZ', '/')\npattern_file_name = \"'\" +y[\"pattern_file_name\"]+ \"'\"\nfile_format = \"bronze_layer.\" +y[\"file_format\"]\non_error = \"'\" + y[\"on_error\"]+ \"'\"\npattern_file_suffix = pattern_file_name.replace('.*.', '').upper()\n\ninternal_stage_asb_path = stage_name + stage_path_suffix\nexternal_stage_abs_path = external_stage_root_path + stage_path_suffix\n\nsrc_schema = \"'\" + src_schema + \"'\"\nbronze_table = \"'\" + bronze_table + \"'\"\nstage_path_suffix = \"'\" + stage_path_suffix + \"'\"\nfile_format = \"'\" + file_format + \"'\"\n\nprint(\"src_schema param: \" + src_schema)\nprint(\"target_table param: \" + bronze_table)\nprint(\"stage_name param: \" + stage_name)\nprint(\"stage_path_suffix param: \" + stage_path_suffix)\nprint(\"pattern_file_name param: \" + pattern_file_name)\nprint(\"file_format param: \" + file_format)\nprint(\"on_error param: \" + on_error)\nprint(\"external_stage_root_path param: \" + external_stage_root_path)\n\nprint(\"Builded internal_stage_abs_path: \" + internal_stage_asb_path)\nprint(\"Builded external_stage_asb_path: \" + external_stage_abs_path)\n\n",
   "execution_count": null,
   "outputs": []
  },
  {
   "cell_type": "code",
   "id": "8d50cbf4-0c8d-4950-86cb-114990437ac9",
   "metadata": {
    "language": "sql",
    "name": "copy_files_from_external_to_internal_stage"
   },
   "source": "copy files\ninto {{ internal_stage_asb_path }}\nfrom {{ external_stage_abs_path }}\nPATTERN = {{ pattern_file_name }};",
   "execution_count": null,
   "outputs": []
  },
  {
   "cell_type": "code",
   "id": "c695373e-ac74-4b62-a1f1-08206cbd5c81",
   "metadata": {
    "language": "sql",
    "name": "ingest_files_into_bronze_layer"
   },
   "source": "CALL bronze_layer.ingest_file_proc(\n{{ src_schema }},\n{{ bronze_table }},\n{{ stage_name }},\n{{ stage_path_suffix }},\n{{ pattern_file_name }},\n{{ file_format }},\n{{ on_error }} \n);",
   "execution_count": null,
   "outputs": []
  },
  {
   "cell_type": "code",
   "id": "a98f478d-04be-4200-a5b1-86797f5442e1",
   "metadata": {
    "language": "sql",
    "name": "check_if_load_completed"
   },
   "outputs": [],
   "source": "/*Check if all files are in \"status\" \"LOADED\". \nIf NOT, raise an exception to fail the task*/\n\nEXECUTE IMMEDIATE $$\nDECLARE\n  status_number NUMBER := (SELECT count(*) from {{ ingest_files_into_bronze_layer }} where \"status\" != 'LOADED') ;\n  LOAD_NOT_COMPLETE_EXCEPTION EXCEPTION (-20002, 'FILES NOT LOADED COMPLETELY, CHECK MONITORING TABLE PLZ!');\nBEGIN\n  IF (status_number != 0) THEN\n    RAISE LOAD_NOT_COMPLETE_EXCEPTION;\n  END IF;\nEXCEPTION\n  WHEN OTHER THEN\n    RAISE; -- Raise the same exception that you are handling.\nEND;\n$$;",
   "execution_count": null
  },
  {
   "cell_type": "code",
   "id": "5e11ed57-1e33-4a6a-b0d1-07675b677cea",
   "metadata": {
    "language": "sql",
    "name": "suspend_task"
   },
   "outputs": [],
   "source": "",
   "execution_count": null
  }
 ]
}
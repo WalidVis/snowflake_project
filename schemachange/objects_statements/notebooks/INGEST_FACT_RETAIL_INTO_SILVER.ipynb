{
 "cells": [
  {
   "cell_type": "code",
   "execution_count": null,
   "id": "3775908f-ca36-4846-8f38-5adca39217f2",
   "metadata": {
    "language": "python",
    "name": "init_parameters"
   },
   "outputs": [],
   "source": [
    "import sys;\n",
    "import json;\n",
    "\n",
    "from snowflake.snowpark.context import get_active_session\n",
    "from snowflake.snowpark import Session\n",
    "from snowflake.snowpark.functions import hash, sha2, lit, concat_ws, col, current_timestamp, array_construct\n",
    "from snowflake.snowpark.types import *\n",
    "\n",
    "session = get_active_session()\n",
    "\n",
    "# Get JSON input parameters\n",
    "# the result is a Python dictionary:\n",
    "y = json.loads(sys.argv[0])\n",
    "\n",
    "# Add quotes \"'\" around column name used in Snowpark query.  Don't Add \"'\" for SQL query\n",
    "\n",
    "src_schema ='BRONZE_LAYER'# Absolute name (database.schema)\n",
    "target_schema = 'SILVER_LAYER'\n",
    "src_table = y[\"bronze_table\"]\n",
    "target_table = y[\"silver_table\"]\n",
    "technicalKey_name = y[\"silver_technicalKey_name\"]\n",
    "functionalKey_name = y[\"silver_functionalKey_name\"]\n",
    "ruleTechnicalKey = y[\"silver_ruleTechnicalKey\"]\n",
    "ruleFunctionalKey = y[\"silver_ruleFunctionalKey\"]\n",
    "\n",
    "print(\"src_schema param: \" + src_schema)\n",
    "print(\"src_table param: \" + src_table)\n",
    "print(\"target_schema param: \" + target_schema)\n",
    "print(\"target_table param: \" + target_table)\n",
    "\n",
    "print(\"technicalKey_name param: \" + technicalKey_name)\n",
    "print(\"functionalKey_name param: \" + functionalKey_name)\n",
    "\n",
    "print(\"Technical RULE param: \" + ruleTechnicalKey)\n",
    "print(\"Functional RULE param: \" + ruleFunctionalKey)\n",
    "\n"
   ]
  },
  {
   "cell_type": "code",
   "execution_count": null,
   "id": "6844cfd5-07d2-4fcd-b29b-a8ed780d8925",
   "metadata": {
    "language": "sql",
    "name": "cell5"
   },
   "outputs": [],
   "source": [
    "select \n",
    "    retail.PanelistSource\t,\n",
    "    retail.HouseKey\t,\n",
    "    retail.PriceCollectionLine\t,\n",
    "    retail.IDProduct\t,\n",
    "    retail.IDGeo\t,\n",
    "    retail.APUKCode\t,\n",
    "    retail.AGUKCode\t,\n",
    "    retail.APUKShortName\t,\n",
    "    retail.AGUKShortName\t,\n",
    "    retail.CollectedDate\t,\n",
    "    retail.LoadedDate\t,\n",
    "    retail.PriceType\t,\n",
    "    retail.Price\t,\n",
    "    retail.Currency\t,\n",
    "    retail.EAN\t,\n",
    "    retail.Size\t,\n",
    "    retail.Unit\t,\n",
    "    retail.PictureUrl\t,\n",
    "    retail.ProductPageURL\t,\n",
    "    retail.SYS_SOURCE_DATE\t, {{ ruleTechnicalKey }} as {{ technicalKey_name }}, {{ ruleFunctionalKey }} as {{ functionalKey_name }}, CURRENT_TIMESTAMP() AS SYS_DATE_CREATE \n",
    "from {{ src_table }} retail\n",
    "LEFT JOIN {{ target_schema }}.DIM_PRC_GEOGRAPHY_SLV GEO ON retail.IDGeo=GEO.IDGeo\n",
    "LEFT JOIN {{ target_schema }}.DIM_PRC_PRODUCT_SLV PROD ON retail.IDProduct=PROD.IDProduct AND retail.HouseKey=PROD.HouseKey\n",
    "LEFT JOIN {{ target_schema }}.DIM_PRC_GENERIC_PRODUCT_SLV GP ON PROD.APUKCode=GP.APUKCode \n",
    "LEFT JOIN {{ target_schema }}.DIM_PRC_GENERIC_GEOGRAPHY_SLV GG ON GEO.AGUKCode=GG.AGUKCode;"
   ]
  },
  {
   "cell_type": "code",
   "execution_count": null,
   "id": "55699f53-7160-4520-9065-e695d6051ce8",
   "metadata": {
    "language": "python",
    "name": "write_into_silver_table"
   },
   "outputs": [],
   "source": [
    "res_table_df = build_table_with_new_fields.to_df()\n",
    "\n",
    "res_table_df.write.mode(\"truncate\").save_as_table(target_table)"
   ]
  },
  {
   "cell_type": "code",
   "execution_count": null,
   "id": "88058a4d-03f3-4f97-8356-a3711f952ac4",
   "metadata": {
    "language": "sql",
    "name": "get_insert_results"
   },
   "outputs": [],
   "source": [
    "SELECT EXECUTION_STATUS as status,ERROR_MESSAGE  as first_error,  ROWS_PRODUCED as rows_parsed, ROWS_INSERTED as rows_loaded\n",
    "FROM table(information_schema.QUERY_HISTORY_BY_SESSION())\n",
    "WHERE QUERY_ID = LAST_QUERY_ID();"
   ]
  },
  {
   "cell_type": "code",
   "execution_count": null,
   "id": "c695373e-ac74-4b62-a1f1-08206cbd5c81",
   "metadata": {
    "language": "python",
    "name": "insert_into_monitoring"
   },
   "outputs": [],
   "source": [
    "insert_result_df = get_insert_results.to_df()\n",
    "\n",
    "monitoring_final_df = insert_result_df.with_column(\"src_table\",array_construct(lit(src_schema + \".\"+src_table))).with_column(\"ingestion_time\",current_timestamp()).with_column(\"layer\",lit(target_schema))\n",
    "\n",
    "#column_order=\"name\" allows not to specify all the column name in the dataframe\n",
    "monitoring_final_df.write.mode(\"append\").save_as_table(\"MONITORING_LAYER.MONITORING_INGEST\",  column_order=\"name\")"
   ]
  },
  {
   "cell_type": "code",
   "execution_count": null,
   "id": "3ec3d2d9-eb10-4262-bd3c-e9f2a6c5f3d5",
   "metadata": {
    "language": "sql",
    "name": "check_insert_results"
   },
   "outputs": [],
   "source": [
    "EXECUTE IMMEDIATE $$\n",
    "DECLARE\n",
    "  status_number NUMBER := (SELECT count(*) from {{ get_insert_results }} where status != 'SUCCESS') ;\n",
    "  LOAD_NOT_COMPLETE_EXCEPTION EXCEPTION (-20002, 'TABLE NOT LOADED CORRECTLY, CHECK MONITORING TABLE PLZ!');\n",
    "BEGIN\n",
    "  IF (status_number != 0) THEN\n",
    "    RAISE LOAD_NOT_COMPLETE_EXCEPTION;\n",
    "  END IF;\n",
    "EXCEPTION\n",
    "  WHEN OTHER THEN\n",
    "    RAISE; -- Raise the same exception that you are handling.\n",
    "END;\n",
    "$$;"
   ]
  }
 ],
 "metadata": {
  "kernelspec": {
   "display_name": "Streamlit Notebook",
   "name": "streamlit"
  },
  "lastEditStatus": {
   "authorEmail": "",
   "authorId": "3121797330016",
   "authorName": "ADMIN_USER",
   "lastEditTime": 1742991064918,
   "notebookId": "ukw4zpwpphyo3glj5str",
   "sessionId": "49e89aeb-3a91-49db-908f-d1683865a21e"
  }
 },
 "nbformat": 4,
 "nbformat_minor": 5
}

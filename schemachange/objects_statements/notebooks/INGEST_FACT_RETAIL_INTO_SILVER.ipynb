{
 "metadata": {
  "kernelspec": {
   "display_name": "Streamlit Notebook",
   "name": "streamlit"
  },
  "lastEditStatus": {
   "notebookId": "7j23ymi5anvrhh5utsnf",
   "authorId": "3121797330016",
   "authorName": "ADMIN_USER",
   "authorEmail": "",
   "sessionId": "85e5ab3b-eaf2-4190-8bda-cc8a7470f6b5",
   "lastEditTime": 1742939502382
  }
 },
 "nbformat_minor": 5,
 "nbformat": 4,
 "cells": [
  {
   "cell_type": "code",
   "id": "3775908f-ca36-4846-8f38-5adca39217f2",
   "metadata": {
    "language": "python",
    "name": "init_parameters"
   },
   "source": "import sys;\nimport json;\n\nfrom snowflake.snowpark.context import get_active_session\nfrom snowflake.snowpark import Session\nfrom snowflake.snowpark.functions import hash, sha2, lit, concat_ws, col, current_timestamp, array_construct\nfrom snowflake.snowpark.types import *\n\nsession = get_active_session()\n\n# Get JSON input parameters\n# the result is a Python dictionary:\ny = json.loads(sys.argv[0])\n\n# Add quotes \"'\" around column name used in Snowpark query.  Don't Add \"'\" for SQL query\n\nsrc_schema ='BRONZE_LAYER'# Absolute name (database.schema)\ntarget_schema = 'SILVER_LAYER'\nsrc_table = y[\"bronze_table\"]\ntarget_table = y[\"silver_table\"]\ntechnicalKey_name = y[\"silver_technicalKey_name\"]\nfunctionalKey_name = y[\"silver_functionalKey_name\"]\nruleTechnicalKey = y[\"silver_ruleTechnicalKey\"]\nruleFunctionalKey = y[\"silver_ruleFunctionalKey\"]\n\nprint(\"src_schema param: \" + src_schema)\nprint(\"src_table param: \" + src_table)\nprint(\"target_schema param: \" + target_schema)\nprint(\"target_table param: \" + target_table)\n\nprint(\"technicalKey_name param: \" + technicalKey_name)\nprint(\"functionalKey_name param: \" + functionalKey_name)\n\nprint(\"Technical RULE param: \" + ruleTechnicalKey)\nprint(\"Functional RULE param: \" + ruleFunctionalKey)\n\n",
   "execution_count": null,
   "outputs": []
  },
  {
   "cell_type": "code",
   "id": "6844cfd5-07d2-4fcd-b29b-a8ed780d8925",
   "metadata": {
    "language": "sql",
    "name": "cell5"
   },
   "outputs": [],
   "source": "select *, {{ ruleTechnicalKey }} as {{ technicalKey_name }}, {{ ruleFunctionalKey }} as {{ functionalKey_name }}, CURRENT_TIMESTAMP() AS SYS_DATE_CREATE \nfrom {{ src_table }} PRC\nLEFT JOIN {{ src_schema }}.PRC_GEOGRAPHY_BRZ GEO ON PRC.IDGeo=GEO.IDGeo\nLEFT JOIN {{ src_schema }}.PRC_PRODUCT_BRZ PROD ON PRC.IDProduct=PROD.IDProduct AND PRC.HouseKey=PROD.HouseKey\nLEFT JOIN {{ src_schema }}.PRC_GENERIC_PRODUCT_BRZ GP ON PROD.APUKCode=GP.APUKCode \nLEFT JOIN {{ src_schema }}.PRC_GENERIC_GEOGRAPHY_BRZ GG ON GEO.AGUKCode=GG.AGUKCode;",
   "execution_count": null
  },
  {
   "cell_type": "code",
   "id": "55699f53-7160-4520-9065-e695d6051ce8",
   "metadata": {
    "language": "python",
    "name": "write_into_silver_table"
   },
   "outputs": [],
   "source": "res_table_df = build_table_with_new_fields.to_df().drop(\"CREATE_DATE\", \"FILE_NAME\")\n\nres_table_df.write.mode(\"overwrite\").save_as_table(target_table)",
   "execution_count": null
  },
  {
   "cell_type": "code",
   "id": "88058a4d-03f3-4f97-8356-a3711f952ac4",
   "metadata": {
    "language": "sql",
    "name": "get_insert_results"
   },
   "outputs": [],
   "source": "SELECT EXECUTION_STATUS as status,ERROR_MESSAGE  as first_error,  ROWS_PRODUCED as rows_parsed, ROWS_INSERTED as rows_loaded\nFROM table(information_schema.QUERY_HISTORY_BY_SESSION())\nWHERE QUERY_ID = LAST_QUERY_ID();",
   "execution_count": null
  },
  {
   "cell_type": "code",
   "id": "c695373e-ac74-4b62-a1f1-08206cbd5c81",
   "metadata": {
    "language": "python",
    "name": "insert_into_monitoring"
   },
   "source": "insert_result_df = get_insert_results.to_df()\n\nmonitoring_final_df = insert_result_df.with_column(\"src_table\",array_construct(lit(src_schema + \".\"+src_table))).with_column(\"ingestion_time\",current_timestamp()).with_column(\"layer\",lit(target_schema))\n\n#column_order=\"name\" allows not to specify all the column name in the dataframe\nmonitoring_final_df.write.mode(\"append\").save_as_table(\"MONITORING_LAYER.MONITORING_INGEST\",  column_order=\"name\")",
   "execution_count": null,
   "outputs": []
  },
  {
   "cell_type": "code",
   "id": "3ec3d2d9-eb10-4262-bd3c-e9f2a6c5f3d5",
   "metadata": {
    "language": "sql",
    "name": "check_insert_results"
   },
   "outputs": [],
   "source": "/* the insert query is a success*/\n\nEXECUTE IMMEDIATE $$\nDECLARE\n  status_number NUMBER := (SELECT count(*) from {{ get_insert_results }} where status != 'SUCCESS') ;\n  LOAD_NOT_COMPLETE_EXCEPTION EXCEPTION (-20002, 'TABLE NOT LOADED CORRECTLY, CHECK MONITORING TABLE PLZ!');\nBEGIN\n  IF (status_number != 0) THEN\n    RAISE LOAD_NOT_COMPLETE_EXCEPTION;\n  END IF;\nEXCEPTION\n  WHEN OTHER THEN\n    RAISE; -- Raise the same exception that you are handling.\nEND;\n$$;",
   "execution_count": null
  }
 ]
}
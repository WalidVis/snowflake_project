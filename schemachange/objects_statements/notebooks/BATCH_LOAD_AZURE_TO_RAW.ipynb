{
 "metadata": {
  "kernelspec": {
   "display_name": "Streamlit Notebook",
   "name": "streamlit"
  },
  "lastEditStatus": {
   "notebookId": "n6aio2thp2jmyoskysbk",
   "authorId": "9145327147112",
   "authorName": "SNOWVISEOADMIN",
   "authorEmail": "matthieu.noiret@viseo.com",
   "sessionId": "9f7c8a38-c201-4c6a-b8d7-ecfab2273580",
   "lastEditTime": 1747231256273
  }
 },
 "nbformat_minor": 5,
 "nbformat": 4,
 "cells": [
  {
   "cell_type": "code",
   "id": "3775908f-ca36-4846-8f38-5adca39217f2",
   "metadata": {
    "language": "python",
    "name": "cell1"
   },
   "source": "from snowflake.snowpark import Session\nfrom snowflake.snowpark.context import get_active_session\n\nsession = get_active_session()\n\n# Lire la table de paramétrage\nparam_df = session.table(\"TABLE_NAMES_MANPRM\").select(\"TABLE_NAME\", \"FILE_FORMAT\")\n\nfor row in param_df.collect():\n    table_name = row[\"TABLE_NAME\"]\n    pattern_file_suffix = row[\"FILE_FORMAT\"]\n\n    # Construction des chemins et noms\n    bronze_table = f\"bronze_layer.{table_name}_BRZ\"\n    stage_name = \"@raw_layer.landing_internal_stage\"\n    stage_path_suffix = bronze_table.replace('_BRZ', '/').replace('bronze_layer.', '/')\n    internal_stage_asb_path = stage_name + stage_path_suffix\n\n    external_stage_root_path = \"@RAW_LAYER.EXTERNAL_AZUR_STAGE/Files\"\n    external_stage_abs_path = external_stage_root_path + stage_path_suffix\n\n\n    pattern_file_name = f\".*\\\\.{pattern_file_suffix.lower()}\"\n\n    try:\n        copy_query = f\"\"\"\n        COPY FILES\n        INTO {internal_stage_asb_path}\n        FROM {external_stage_abs_path}\n        PATTERN = '{pattern_file_name}';\n        \"\"\"\n        session.sql(copy_query).collect()\n        print(f\"Success loading files for table {table_name}\")\n    except Exception as e:\n        print(f\"Error when loading files for table {table_name}: {str(e)}\")",
   "execution_count": null,
   "outputs": []
  }
 ]
}
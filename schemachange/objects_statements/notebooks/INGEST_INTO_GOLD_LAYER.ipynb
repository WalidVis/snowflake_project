{
 "cells": [
  {
   "cell_type": "code",
   "execution_count": null,
   "id": "3775908f-ca36-4846-8f38-5adca39217f2",
   "metadata": {
    "language": "python",
    "name": "cell1"
   },
   "outputs": [],
   "source": [
    "import sys;\n",
    "import json;\n",
    "\n",
    "from snowflake.snowpark.context import get_active_session\n",
    "from snowflake.snowpark import Session\n",
    "from snowflake.snowpark.functions import hash, sha2, lit, concat_ws, col, current_timestamp, array_construct\n",
    "from snowflake.snowpark.types import *\n",
    "\n",
    "session = get_active_session()\n",
    "\n",
    "# Get JSON input parameters\n",
    "# the result is a Python dictionary:\n",
    "y = json.loads(sys.argv[0])\n",
    "\n",
    "\n",
    "src_schema ='SILVER_LAYER'# Absolute name (database.schema)\n",
    "target_schema = 'GOLD_LAYER'\n",
    "src_table = y[\"silver_table\"]\n",
    "target_table = y[\"gold_table\"]\n",
    "functionalKey_name = y[\"silver_functionalKey_name\"]\n",
    "\n",
    "print(\"src_schema param: \" + src_schema)\n",
    "print(\"src_table param: \" + src_table)\n",
    "print(\"target_schema param: \" + target_schema)\n",
    "print(\"target_table param: \" + target_table)\n",
    "print(\"functionalKey_name param: \" + functionalKey_name)"
   ]
  },
  {
   "cell_type": "code",
   "execution_count": null,
   "id": "8d50cbf4-0c8d-4950-86cb-114990437ac9",
   "metadata": {
    "language": "sql",
    "name": "build_table_with_new_fields"
   },
   "outputs": [],
   "source": [
    "select * from {{ src_table }};"
   ]
  },
  {
   "cell_type": "code",
   "execution_count": null,
   "id": "c695373e-ac74-4b62-a1f1-08206cbd5c81",
   "metadata": {
    "language": "python",
    "name": "write_into_silver_table"
   },
   "outputs": [],
   "source": [
    "res_table_df = get_data_from_silver_table.to_df().drop(functionalKey_name).with_column(\"SYS_DATE_UPDATE\",current_timestamp())\n",
    "\n",
    "res_table_df.write.mode(\"truncate\").save_as_table(target_table)"
   ]
  },
  {
   "cell_type": "code",
   "execution_count": null,
   "id": "29f21341-80c1-4557-999a-a3ce026b213a",
   "metadata": {
    "language": "sql",
    "name": "get_insert_results"
   },
   "outputs": [],
   "source": [
    "SELECT EXECUTION_STATUS as status,ERROR_MESSAGE  as first_error,  ROWS_PRODUCED as rows_parsed, ROWS_INSERTED as rows_loaded\n",
    "FROM table(information_schema.QUERY_HISTORY_BY_SESSION())\n",
    "WHERE QUERY_ID = LAST_QUERY_ID();"
   ]
  },
  {
   "cell_type": "code",
   "execution_count": null,
   "id": "c6b6dad9-faa8-49a5-a207-bc55ed514d11",
   "metadata": {
    "language": "sql",
    "name": "cell4"
   },
   "outputs": [],
   "source": [
    "EXECUTE IMMEDIATE $$\n",
    "DECLARE\n",
    "  status_number NUMBER := (SELECT count(*) from {{ get_insert_results }} where status != 'SUCCESS') ;\n",
    "  LOAD_NOT_COMPLETE_EXCEPTION EXCEPTION (-20002, 'TABLE NOT LOADED CORRECTLY, CHECK MONITORING TABLE PLZ!');\n",
    "BEGIN\n",
    "  IF (status_number != 0) THEN\n",
    "    RAISE LOAD_NOT_COMPLETE_EXCEPTION;\n",
    "  END IF;\n",
    "EXCEPTION\n",
    "  WHEN OTHER THEN\n",
    "    RAISE; -- Raise the same exception that you are handling.\n",
    "END;\n",
    "$$;"
   ]
  }
 ],
 "metadata": {
  "kernelspec": {
   "display_name": "Streamlit Notebook",
   "name": "streamlit"
  },
  "lastEditStatus": {
   "authorEmail": "m-hamed-issam.eddaou@viseo.com",
   "authorId": "3702433164732",
   "authorName": "VISEO",
   "lastEditTime": 1742763808411,
   "notebookId": "xo4mcepbqlxrerz4jcib",
   "sessionId": "2bc4a662-b52c-474a-996f-ab12194597c0"
  }
 },
 "nbformat": 4,
 "nbformat_minor": 5
}

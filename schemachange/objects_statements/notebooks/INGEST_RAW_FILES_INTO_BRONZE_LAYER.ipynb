{
 "metadata": {
  "kernelspec": {
   "display_name": "Streamlit Notebook",
   "name": "streamlit"
  },
  "lastEditStatus": {
   "notebookId": "cqylb5o74gk5x4sevnfr",
   "authorId": "2742675904798",
   "authorName": "WALID_CHERIET",
   "authorEmail": "mouloud-walid.cheriet@viseo.com",
   "sessionId": "cfd5f4f1-e454-4830-ae90-a541f5822dfe",
   "lastEditTime": 1740741406719
  }
 },
 "nbformat_minor": 5,
 "nbformat": 4,
 "cells": [
  {
   "cell_type": "code",
   "id": "3775908f-ca36-4846-8f38-5adca39217f2",
   "metadata": {
    "language": "python",
    "name": "get_inputs"
   },
   "source": "# Import python packages\nimport sys;\nimport json;\n\n# Get JSON input parameters\ny = json.loads(sys.argv[0])\n\n# the result is a Python dictionary:\nsrc_schema =\"'\" + y[\"src_schema\"]+ \"'\"# Absolute name (database.schema)\ntarget_table = \"'\" +y[\"target_table\"]+ \"'\"\nstage_name = \"'\" +y[\"stage_name\"]+ \"'\"\nstage_path_suffix = \"'\" +y[\"stage_path_suffix\"]+ \"'\"\npattern_file_name = \"'\" +y[\"pattern_file_name\"]+ \"'\"\nfile_format = \"'\" +y[\"file_format\"]+ \"'\"\non_error = \"'\" + y[\"on_error\"]+ \"'\"\n\ninternal_stage_asb_path = y[\"stage_name\"] + y[\"stage_path_suffix\"]\nexternal_stage_abs_path = y[\"external_stage_root_path\"] + y[\"stage_path_suffix\"]\n\nprint(\"src_schema param: \" + src_schema)\nprint(\"target_table param: \" + target_table)\nprint(\"stage_name param: \" + stage_name)\nprint(\"stage_path_suffix param: \" + stage_path_suffix)\nprint(\"pattern_file_name param: \" + pattern_file_name)\nprint(\"file_format param: \" + file_format)\nprint(\"on_error param: \" + on_error)\nprint(\"external_stage_root_path param: \" + y[\"external_stage_root_path\"])\n\nprint(\"Builded internal_stage_abs_path: \" + internal_stage_asb_path)\nprint(\"Builded external_stage_asb_path: \" + external_stage_abs_path)\n",
   "execution_count": null,
   "outputs": []
  },
  {
   "cell_type": "code",
   "id": "8d50cbf4-0c8d-4950-86cb-114990437ac9",
   "metadata": {
    "language": "sql",
    "name": "copy_files_from_external_to_internal_stage"
   },
   "source": "copy files\ninto {{ internal_stage_asb_path }}\nfrom {{ external_stage_abs_path }}\nPATTERN = {{ pattern_file_name }};",
   "execution_count": null,
   "outputs": []
  },
  {
   "cell_type": "code",
   "id": "c695373e-ac74-4b62-a1f1-08206cbd5c81",
   "metadata": {
    "language": "sql",
    "name": "ingest_files_into_bronze_layer"
   },
   "source": "CALL DEV_POC_VISEO_DB.bronze_layer.ingest_file_proc(\n{{ src_schema }},\n{{ target_table }},\n{{ stage_name }},\n{{ stage_path_suffix }},\n{{ pattern_file_name }},\n{{ file_format }},\n{{ on_error }} \n);",
   "execution_count": null,
   "outputs": []
  },
  {
   "cell_type": "code",
   "id": "3b6908eb-356f-4062-a9a2-d2fdfa928a3b",
   "metadata": {
    "language": "sql",
    "name": "check_if_load_completed"
   },
   "outputs": [],
   "source": "/*Check if all files are in \"status\" \"LOADED\". \nIf NOT, raise an exception to fail the task*/\n\nEXECUTE IMMEDIATE $$\nDECLARE\n  status_number NUMBER := (SELECT count(*) from {{ ingest_files_into_bronze_layer }} where \"status\" != 'LOADED') ;\n  LOAD_NOT_COMPLETE_EXCEPTION EXCEPTION (-20002, 'FILES NOT LOADED COMPLETELY, CHECK MONITORING TABLE PLZ!');\nBEGIN\n  IF (status_number != 0) THEN\n    RAISE LOAD_NOT_COMPLETE_EXCEPTION;\n  END IF;\nEXCEPTION\n  WHEN OTHER THEN\n    RAISE; -- Raise the same exception that you are handling.\nEND;\n$$;",
   "execution_count": null
  }
 ]
}
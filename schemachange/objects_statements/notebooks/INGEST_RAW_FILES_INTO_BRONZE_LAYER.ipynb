{
 "cells": [
  {
   "cell_type": "code",
   "execution_count": null,
   "id": "3775908f-ca36-4846-8f38-5adca39217f2",
   "metadata": {
    "language": "python",
    "name": "get_inputs"
   },
   "outputs": [],
   "source": [
    "# Import python packages\n",
    "import sys;\n",
    "import json;\n",
    "\n",
    "# Get JSON input parameters\n",
    "y = json.loads(sys.argv[0])\n",
    "\n",
    "# the result is a Python dictionary:\n",
    "src_schema =\"'\" + y[\"src_schema\"]+ \"'\"# Absolute name (database.schema)\n",
    "target_table = \"'\" +y[\"target_table\"]+ \"'\"\n",
    "stage_name = \"'\" +y[\"stage_name\"]+ \"'\"\n",
    "stage_path_suffix = \"'\" +y[\"stage_path_suffix\"]+ \"'\"\n",
    "pattern_file_name = \"'\" +y[\"pattern_file_name\"]+ \"'\"\n",
    "file_format = \"'\" +y[\"file_format\"]+ \"'\"\n",
    "on_error = \"'\" + y[\"on_error\"]+ \"'\"\n",
    "\n",
    "internal_stage_asb_path = y[\"stage_name\"] + y[\"stage_path_suffix\"]\n",
    "external_stage_abs_path = y[\"external_stage_root_path\"] + y[\"stage_path_suffix\"]\n",
    "\n",
    "print(\"src_schema param: \" + src_schema)\n",
    "print(\"target_table param: \" + target_table)\n",
    "print(\"stage_name param: \" + stage_name)\n",
    "print(\"stage_path_suffix param: \" + stage_path_suffix)\n",
    "print(\"pattern_file_name param: \" + pattern_file_name)\n",
    "print(\"file_format param: \" + file_format)\n",
    "print(\"on_error param: \" + on_error)\n",
    "print(\"external_stage_root_path param: \" + y[\"external_stage_root_path\"])\n",
    "\n",
    "print(\"Builded internal_stage_abs_path: \" + internal_stage_asb_path)\n",
    "print(\"Builded external_stage_asb_path: \" + external_stage_abs_path)\n"
   ]
  },
  {
   "cell_type": "code",
   "execution_count": null,
   "id": "8d50cbf4-0c8d-4950-86cb-114990437ac9",
   "metadata": {
    "language": "sql",
    "name": "copy_files_from_external_to_internal_stage"
   },
   "outputs": [],
   "source": [
    "copy files\n",
    "into {{ internal_stage_asb_path }}\n",
    "from {{ external_stage_abs_path }}\n",
    "PATTERN = {{ pattern_file_name }};"
   ]
  },
  {
   "cell_type": "code",
   "execution_count": null,
   "id": "c695373e-ac74-4b62-a1f1-08206cbd5c81",
   "metadata": {
    "language": "sql",
    "name": "ingest_files_into_bronze_layer"
   },
   "outputs": [],
   "source": [
    "CALL DEV_POC_VISEO_DB.bronze_layer.ingest_file_proc(\n",
    "{{ src_schema }},\n",
    "{{ target_table }},\n",
    "{{ stage_name }},\n",
    "{{ stage_path_suffix }},\n",
    "{{ pattern_file_name }},\n",
    "{{ file_format }},\n",
    "{{ on_error }} \n",
    ");"
   ]
  },
  {
   "cell_type": "code",
   "execution_count": null,
   "id": "3b6908eb-356f-4062-a9a2-d2fdfa928a3b",
   "metadata": {
    "language": "sql",
    "name": "check_if_load_completed"
   },
   "outputs": [],
   "source": [
    "/*Check if all files are in \"status\" \"LOADED\". \n",
    "If NOT, raise an exception to fail the task*/\n",
    "\n",
    "EXECUTE IMMEDIATE $$\n",
    "DECLARE\n",
    "  status_number NUMBER := (SELECT count(*) from {{ ingest_files_into_bronze_layer }} where \"status\" != 'LOADED') ;\n",
    "  LOAD_NOT_COMPLETE_EXCEPTION EXCEPTION (-20002, 'FILES NOT LOADED COMPLETELY, CHECK MONITORING TABLE PLZ!');\n",
    "BEGIN\n",
    "  IF (status_number != 0) THEN\n",
    "    RAISE LOAD_NOT_COMPLETE_EXCEPTION;\n",
    "  END IF;\n",
    "EXCEPTION\n",
    "  WHEN OTHER THEN\n",
    "    RAISE; -- Raise the same exception that you are handling.\n",
    "END;\n",
    "$$;"
   ]
  }
 ],
 "metadata": {
  "kernelspec": {
   "display_name": "Streamlit Notebook",
   "name": "streamlit"
  },
  "lastEditStatus": {
   "authorEmail": "mouloud-walid.cheriet@viseo.com",
   "authorId": "2742675904798",
   "authorName": "WALID_CHERIET",
   "lastEditTime": 1740741406719,
   "notebookId": "cqylb5o74gk5x4sevnfr",
   "sessionId": "cfd5f4f1-e454-4830-ae90-a541f5822dfe"
  }
 },
 "nbformat": 4,
 "nbformat_minor": 5
}
